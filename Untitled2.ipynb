{
 "cells": [
  {
   "cell_type": "code",
   "execution_count": 9,
   "id": "7072d7b9",
   "metadata": {},
   "outputs": [
    {
     "name": "stdout",
     "output_type": "stream",
     "text": [
      "Requirement already satisfied: music21 in c:\\users\\subham chakraborty\\anaconda(new)\\lib\\site-packages (7.3.3)\n",
      "Requirement already satisfied: jsonpickle in c:\\users\\subham chakraborty\\anaconda(new)\\lib\\site-packages (from music21) (2.2.0)\n",
      "Requirement already satisfied: webcolors>=1.5 in c:\\users\\subham chakraborty\\anaconda(new)\\lib\\site-packages (from music21) (1.11.1)\n",
      "Requirement already satisfied: more-itertools in c:\\users\\subham chakraborty\\anaconda(new)\\lib\\site-packages (from music21) (8.10.0)\n",
      "Requirement already satisfied: matplotlib in c:\\users\\subham chakraborty\\anaconda(new)\\lib\\site-packages (from music21) (3.4.3)\n",
      "Requirement already satisfied: numpy in c:\\users\\subham chakraborty\\anaconda(new)\\lib\\site-packages (from music21) (1.20.3)\n",
      "Requirement already satisfied: chardet in c:\\users\\subham chakraborty\\anaconda(new)\\lib\\site-packages (from music21) (4.0.0)\n",
      "Requirement already satisfied: joblib in c:\\users\\subham chakraborty\\anaconda(new)\\lib\\site-packages (from music21) (1.1.0)\n",
      "Requirement already satisfied: pyparsing>=2.2.1 in c:\\users\\subham chakraborty\\anaconda(new)\\lib\\site-packages (from matplotlib->music21) (3.0.4)\n",
      "Requirement already satisfied: pillow>=6.2.0 in c:\\users\\subham chakraborty\\anaconda(new)\\lib\\site-packages (from matplotlib->music21) (8.4.0)\n",
      "Requirement already satisfied: kiwisolver>=1.0.1 in c:\\users\\subham chakraborty\\anaconda(new)\\lib\\site-packages (from matplotlib->music21) (1.3.1)\n",
      "Requirement already satisfied: python-dateutil>=2.7 in c:\\users\\subham chakraborty\\anaconda(new)\\lib\\site-packages (from matplotlib->music21) (2.8.2)\n",
      "Requirement already satisfied: cycler>=0.10 in c:\\users\\subham chakraborty\\anaconda(new)\\lib\\site-packages (from matplotlib->music21) (0.10.0)\n",
      "Requirement already satisfied: six in c:\\users\\subham chakraborty\\anaconda(new)\\lib\\site-packages (from cycler>=0.10->matplotlib->music21) (1.16.0)\n",
      "Note: you may need to restart the kernel to use updated packages.\n"
     ]
    }
   ],
   "source": [
    "pip install music21"
   ]
  },
  {
   "cell_type": "code",
   "execution_count": 29,
   "id": "156ec0e1",
   "metadata": {},
   "outputs": [],
   "source": [
    "#DataFlair Automatic Music Generation Project\n",
    "#load all the libraries\n",
    "#from music21 import *\n",
    "from music21 import converter,instrument\n",
    "import glob\n",
    "from tqdm import tqdm\n",
    "import numpy as np\n",
    "import random\n",
    "from tensorflow.keras.layers import LSTM,Dense,Input,Dropout\n",
    "from tensorflow.keras.models import Sequential,Model,load_model\n",
    "from sklearn.model_selection import train_test_split"
   ]
  },
  {
   "cell_type": "code",
   "execution_count": 42,
   "id": "ff3c85c4",
   "metadata": {},
   "outputs": [
    {
     "name": "stderr",
     "output_type": "stream",
     "text": [
      "  0%|                                                                                           | 0/29 [00:00<?, ?it/s]C:\\Users\\subham chakraborty\\anaconda(new)\\lib\\site-packages\\music21\\midi\\translate.py:883: TranslateWarning: Unable to determine instrument from <music21.midi.MidiEvent SEQUENCE_TRACK_NAME, track=5, channel=None, data=b'Copyright \\xa9 2009 by Bernd Krueger'>; getting generic Instrument\n",
      "  warnings.warn(\n",
      "  3%|██▊                                                                                | 1/29 [00:30<14:26, 30.95s/it]C:\\Users\\subham chakraborty\\anaconda(new)\\lib\\site-packages\\music21\\midi\\translate.py:883: TranslateWarning: Unable to determine instrument from <music21.midi.MidiEvent SEQUENCE_TRACK_NAME, track=5, channel=None, data=b'Copyright \\xa9 2010 by Bernd Krueger'>; getting generic Instrument\n",
      "  warnings.warn(\n",
      " 14%|███████████▍                                                                       | 4/29 [01:27<08:27, 20.30s/it]C:\\Users\\subham chakraborty\\anaconda(new)\\lib\\site-packages\\music21\\midi\\translate.py:883: TranslateWarning: Unable to determine instrument from <music21.midi.MidiEvent SEQUENCE_TRACK_NAME, track=5, channel=None, data=b'Copyright \\xa9 2007 by Bernd Krueger'>; getting generic Instrument\n",
      "  warnings.warn(\n",
      " 28%|██████████████████████▉                                                            | 8/29 [03:00<08:02, 22.97s/it]C:\\Users\\subham chakraborty\\anaconda(new)\\lib\\site-packages\\music21\\midi\\translate.py:883: TranslateWarning: Unable to determine instrument from <music21.midi.MidiEvent SEQUENCE_TRACK_NAME, track=4, channel=None, data=b'Copyright \\xa9 2004 by Bernd Kr\\xfcger'>; getting generic Instrument\n",
      "  warnings.warn(\n",
      " 41%|█████████████████████████████████▉                                                | 12/29 [03:46<04:02, 14.24s/it]C:\\Users\\subham chakraborty\\anaconda(new)\\lib\\site-packages\\music21\\midi\\translate.py:883: TranslateWarning: Unable to determine instrument from <music21.midi.MidiEvent SEQUENCE_TRACK_NAME, track=5, channel=None, data=b'Copyright \\xa9 2002 by Bernd Kr\\xfcger'>; getting generic Instrument\n",
      "  warnings.warn(\n",
      " 45%|███████████████████████████████████▍                                           | 13/29 [17:06<1:07:15, 252.19s/it]C:\\Users\\subham chakraborty\\anaconda(new)\\lib\\site-packages\\music21\\midi\\translate.py:883: TranslateWarning: Unable to determine instrument from <music21.midi.MidiEvent SEQUENCE_TRACK_NAME, track=4, channel=None, data=b'Copyright \\xa9 2002 by Bernd Kr\\xfcger'>; getting generic Instrument\n",
      "  warnings.warn(\n",
      " 59%|████████████████████████████████████████████████                                  | 17/29 [17:51<13:52, 69.36s/it]C:\\Users\\subham chakraborty\\anaconda(new)\\lib\\site-packages\\music21\\midi\\translate.py:883: TranslateWarning: Unable to determine instrument from <music21.midi.MidiEvent SEQUENCE_TRACK_NAME, track=4, channel=None, data=b'Copyright \\xa9 1997 by Bernd Krueger'>; getting generic Instrument\n",
      "  warnings.warn(\n",
      " 66%|█████████████████████████████████████████████████████▋                            | 19/29 [18:11<06:29, 39.00s/it]C:\\Users\\subham chakraborty\\anaconda(new)\\lib\\site-packages\\music21\\midi\\translate.py:883: TranslateWarning: Unable to determine instrument from <music21.midi.MidiEvent SEQUENCE_TRACK_NAME, track=4, channel=None, data=b'Copyright \\xa9 1996 by Bernd Krueger'>; getting generic Instrument\n",
      "  warnings.warn(\n",
      " 69%|████████████████████████████████████████████████████████▌                         | 20/29 [18:23<04:39, 31.05s/it]C:\\Users\\subham chakraborty\\anaconda(new)\\lib\\site-packages\\music21\\midi\\translate.py:883: TranslateWarning: Unable to determine instrument from <music21.midi.MidiEvent SEQUENCE_TRACK_NAME, track=4, channel=None, data=b'Copyright \\xa9 1999 by Bernd Krueger'>; getting generic Instrument\n",
      "  warnings.warn(\n",
      " 97%|███████████████████████████████████████████████████████████████████████████████▏  | 28/29 [19:14<00:09,  9.19s/it]C:\\Users\\subham chakraborty\\anaconda(new)\\lib\\site-packages\\music21\\midi\\translate.py:883: TranslateWarning: Unable to determine instrument from <music21.midi.MidiEvent SEQUENCE_TRACK_NAME, track=4, channel=None, data=b'Copyright \\xa9 1999 by Bernd Kr\\xfcger'>; getting generic Instrument\n",
      "  warnings.warn(\n",
      "100%|██████████████████████████████████████████████████████████████████████████████████| 29/29 [19:30<00:00, 40.36s/it]\n",
      "C:\\Users\\SUBHAM~1\\AppData\\Local\\Temp/ipykernel_10260/2142968015.py:20: VisibleDeprecationWarning: Creating an ndarray from ragged nested sequences (which is a list-or-tuple of lists-or-tuples-or ndarrays with different lengths or shapes) is deprecated. If you meant to do this, you must specify 'dtype=object' when creating the ndarray.\n",
      "  notes_array = np.array([read_files(i) for i in tqdm(all_files,position=0,leave=True)])\n"
     ]
    }
   ],
   "source": [
    "def read_files(file):\n",
    " notes=[]\n",
    " notes_to_parse=None\n",
    " midi=converter.parse(file)\n",
    " instrmt=instrument.partitionByInstrument(midi)\n",
    " for part in instrmt.parts:\n",
    "   if 'Piano' in str(part):\n",
    "        notes_to_parse=part.recurse()\n",
    " for element in notes_to_parse:\n",
    "    if type(element)==note.Note:\n",
    "        notes.append(str(element.pitch))\n",
    "    elif type(element)==chord.Chord:\n",
    "        notes.append('.'.join(str(n) for n in element.normalOrder))\n",
    "#return the list of notes\n",
    " return notes\n",
    "#retrieve paths recursively from inside the directories/files\n",
    "file_path=[\"schubert\"]\n",
    "all_files=glob.glob('AllMidiFiles/'+file_path[0]+'/*.mid',recursive=True)\n",
    "#reading each midi file\n",
    "notes_array = np.array([read_files(i) for i in tqdm(all_files,position=0,leave=True)])"
   ]
  },
  {
   "cell_type": "code",
   "execution_count": 45,
   "id": "f6798907",
   "metadata": {},
   "outputs": [
    {
     "name": "stdout",
     "output_type": "stream",
     "text": [
      "Unique Notes: 95\n",
      "30 : 17\n",
      "50 : 10\n",
      "70 : 5\n",
      "90 : 3\n"
     ]
    }
   ],
   "source": [
    "#unique notes\n",
    "notess = sum(notes_array,[])\n",
    "unique_notes = list(set(notess))\n",
    "print(\"Unique Notes:\",len(unique_notes))\n",
    "\n",
    "#notes with their frequency\n",
    "freq=dict(map(lambda x: (x,notess.count(x)),unique_notes))\n",
    "\n",
    "#get the threshold frequency\n",
    "for i in range(30,100,20):\n",
    "    print(i,\":\",len(list(filter(lambda x:x[1]>=i,freq.items()))))"
   ]
  },
  {
   "cell_type": "code",
   "execution_count": 46,
   "id": "064527ef",
   "metadata": {},
   "outputs": [],
   "source": [
    "#filter notes greater than threshold i.e. 50\n",
    "freq_notes=dict(filter(lambda x:x[1]>=50,freq.items()))\n",
    "\n",
    "#create new notes using the frequent notes\n",
    "new_notes=[[i for i in j if i in freq_notes] for j in notes_array]"
   ]
  },
  {
   "cell_type": "code",
   "execution_count": 47,
   "id": "282d726d",
   "metadata": {},
   "outputs": [],
   "source": [
    "#dictionary having key as note index and value as note\n",
    "ind2note=dict(enumerate(freq_notes))\n",
    "\n",
    "#dictionary having key as note and value as note index\n",
    "note2ind=dict(map(reversed,ind2note.items()))"
   ]
  },
  {
   "cell_type": "code",
   "execution_count": 48,
   "id": "3964a3a5",
   "metadata": {},
   "outputs": [],
   "source": [
    "#timestep\n",
    "timesteps=50\n",
    "\n",
    "#store values of input and output\n",
    "x=[] ; y=[]\n",
    "\n",
    "for i in new_notes:\n",
    " for j in range(0,len(i)-timesteps):\n",
    "  #input will be the current index + timestep\n",
    "  #output will be the next index after timestep\n",
    "  inp=i[j:j+timesteps] ; out=i[j+timesteps]\n",
    "\n",
    "  #append the index value of respective notes\n",
    "  x.append(list(map(lambda x:note2ind[x],inp)))\n",
    "  y.append(note2ind[out])\n",
    "\n",
    "x_new=np.array(x)\n",
    "y_new=np.array(y)"
   ]
  },
  {
   "cell_type": "code",
   "execution_count": 49,
   "id": "7ec5f34a",
   "metadata": {},
   "outputs": [],
   "source": [
    "#reshape input and output for the model\n",
    "x_new = np.reshape(x_new,(len(x_new),timesteps,1))\n",
    "y_new = np.reshape(y_new,(-1,1))\n",
    "\n",
    "#split the input and value into training and testing sets\n",
    "#80% for training and 20% for testing sets\n",
    "x_train,x_test,y_train,y_test = train_test_split(x_new,y_new,test_size=0.2,random_state=42)"
   ]
  },
  {
   "cell_type": "code",
   "execution_count": 50,
   "id": "1dac8c65",
   "metadata": {},
   "outputs": [
    {
     "name": "stdout",
     "output_type": "stream",
     "text": [
      "Model: \"sequential\"\n",
      "_________________________________________________________________\n",
      " Layer (type)                Output Shape              Param #   \n",
      "=================================================================\n",
      " lstm (LSTM)                 (None, 50, 256)           264192    \n",
      "                                                                 \n",
      " dropout (Dropout)           (None, 50, 256)           0         \n",
      "                                                                 \n",
      " lstm_1 (LSTM)               (None, 256)               525312    \n",
      "                                                                 \n",
      " dropout_1 (Dropout)         (None, 256)               0         \n",
      "                                                                 \n",
      " dense (Dense)               (None, 256)               65792     \n",
      "                                                                 \n",
      " dense_1 (Dense)             (None, 10)                2570      \n",
      "                                                                 \n",
      "=================================================================\n",
      "Total params: 857,866\n",
      "Trainable params: 857,866\n",
      "Non-trainable params: 0\n",
      "_________________________________________________________________\n"
     ]
    }
   ],
   "source": [
    "#create the model\n",
    "model = Sequential()\n",
    "#create two stacked LSTM layer with the latent dimension of 256\n",
    "model.add(LSTM(256,return_sequences=True,input_shape=(x_new.shape[1],x_new.shape[2])))\n",
    "model.add(Dropout(0.2))\n",
    "model.add(LSTM(256))\n",
    "model.add(Dropout(0.2))\n",
    "model.add(Dense(256,activation='relu'))\n",
    "#fully connected layer for the output with softmax activation\n",
    "model.add(Dense(len(note2ind),activation='softmax'))\n",
    "model.summary()"
   ]
  },
  {
   "cell_type": "code",
   "execution_count": 51,
   "id": "10eef7e4",
   "metadata": {},
   "outputs": [
    {
     "name": "stdout",
     "output_type": "stream",
     "text": [
      "Epoch 1/80\n",
      "5/5 [==============================] - 11s 959ms/step - loss: 2.2608 - accuracy: 0.1773 - val_loss: 2.1634 - val_accuracy: 0.2611\n",
      "Epoch 2/80\n",
      "5/5 [==============================] - 3s 594ms/step - loss: 2.1559 - accuracy: 0.2348 - val_loss: 2.0234 - val_accuracy: 0.2548\n",
      "Epoch 3/80\n",
      "5/5 [==============================] - 3s 599ms/step - loss: 2.0212 - accuracy: 0.2732 - val_loss: 1.8201 - val_accuracy: 0.3567\n",
      "Epoch 4/80\n",
      "5/5 [==============================] - 3s 577ms/step - loss: 1.8709 - accuracy: 0.3083 - val_loss: 1.7950 - val_accuracy: 0.3758\n",
      "Epoch 5/80\n",
      "5/5 [==============================] - 3s 598ms/step - loss: 1.8157 - accuracy: 0.3051 - val_loss: 1.7318 - val_accuracy: 0.3248\n",
      "Epoch 6/80\n",
      "5/5 [==============================] - 3s 608ms/step - loss: 1.7594 - accuracy: 0.3435 - val_loss: 1.6859 - val_accuracy: 0.3758\n",
      "Epoch 7/80\n",
      "5/5 [==============================] - 3s 600ms/step - loss: 1.6899 - accuracy: 0.3498 - val_loss: 1.6627 - val_accuracy: 0.3822\n",
      "Epoch 8/80\n",
      "5/5 [==============================] - 3s 605ms/step - loss: 1.6673 - accuracy: 0.3690 - val_loss: 1.6384 - val_accuracy: 0.3758\n",
      "Epoch 9/80\n",
      "5/5 [==============================] - 3s 591ms/step - loss: 1.5740 - accuracy: 0.3946 - val_loss: 1.5941 - val_accuracy: 0.3885\n",
      "Epoch 10/80\n",
      "5/5 [==============================] - 3s 611ms/step - loss: 1.5426 - accuracy: 0.3978 - val_loss: 1.5230 - val_accuracy: 0.4331\n",
      "Epoch 11/80\n",
      "5/5 [==============================] - 3s 623ms/step - loss: 1.4972 - accuracy: 0.4313 - val_loss: 1.5355 - val_accuracy: 0.4459\n",
      "Epoch 12/80\n",
      "5/5 [==============================] - 3s 611ms/step - loss: 1.4593 - accuracy: 0.4409 - val_loss: 1.5162 - val_accuracy: 0.4395\n",
      "Epoch 13/80\n",
      "5/5 [==============================] - 3s 603ms/step - loss: 1.4461 - accuracy: 0.4457 - val_loss: 1.5103 - val_accuracy: 0.4586\n",
      "Epoch 14/80\n",
      "5/5 [==============================] - 3s 605ms/step - loss: 1.4515 - accuracy: 0.4617 - val_loss: 1.5415 - val_accuracy: 0.4586\n",
      "Epoch 15/80\n",
      "5/5 [==============================] - 3s 599ms/step - loss: 1.4041 - accuracy: 0.4601 - val_loss: 1.5460 - val_accuracy: 0.4331\n",
      "Epoch 16/80\n",
      "5/5 [==============================] - 3s 602ms/step - loss: 1.4414 - accuracy: 0.4361 - val_loss: 1.5153 - val_accuracy: 0.4331\n",
      "Epoch 17/80\n",
      "5/5 [==============================] - 3s 604ms/step - loss: 1.4333 - accuracy: 0.4345 - val_loss: 1.5014 - val_accuracy: 0.4204\n",
      "Epoch 18/80\n",
      "5/5 [==============================] - 3s 607ms/step - loss: 1.4289 - accuracy: 0.4489 - val_loss: 1.6236 - val_accuracy: 0.3758\n",
      "Epoch 19/80\n",
      "5/5 [==============================] - 3s 638ms/step - loss: 1.4519 - accuracy: 0.4361 - val_loss: 1.5114 - val_accuracy: 0.4140\n",
      "Epoch 20/80\n",
      "5/5 [==============================] - 3s 617ms/step - loss: 1.4571 - accuracy: 0.4425 - val_loss: 1.6705 - val_accuracy: 0.4204\n",
      "Epoch 21/80\n",
      "5/5 [==============================] - 3s 624ms/step - loss: 1.4635 - accuracy: 0.4425 - val_loss: 1.4752 - val_accuracy: 0.4204\n",
      "Epoch 22/80\n",
      "5/5 [==============================] - 3s 645ms/step - loss: 1.4168 - accuracy: 0.4345 - val_loss: 1.5684 - val_accuracy: 0.4013\n",
      "Epoch 23/80\n",
      "5/5 [==============================] - 3s 628ms/step - loss: 1.4094 - accuracy: 0.4681 - val_loss: 1.4524 - val_accuracy: 0.4395\n",
      "Epoch 24/80\n",
      "5/5 [==============================] - 3s 614ms/step - loss: 1.3664 - accuracy: 0.4665 - val_loss: 1.4310 - val_accuracy: 0.4522\n",
      "Epoch 25/80\n",
      "5/5 [==============================] - 3s 616ms/step - loss: 1.3482 - accuracy: 0.4601 - val_loss: 1.4853 - val_accuracy: 0.4331\n",
      "Epoch 26/80\n",
      "5/5 [==============================] - 3s 595ms/step - loss: 1.3288 - accuracy: 0.4553 - val_loss: 1.4955 - val_accuracy: 0.4140\n",
      "Epoch 27/80\n",
      "5/5 [==============================] - 3s 604ms/step - loss: 1.3210 - accuracy: 0.4537 - val_loss: 1.4926 - val_accuracy: 0.4331\n",
      "Epoch 28/80\n",
      "5/5 [==============================] - 3s 630ms/step - loss: 1.3233 - accuracy: 0.4776 - val_loss: 1.4868 - val_accuracy: 0.4522\n",
      "Epoch 29/80\n",
      "5/5 [==============================] - 3s 595ms/step - loss: 1.3154 - accuracy: 0.4633 - val_loss: 1.5388 - val_accuracy: 0.4395\n",
      "Epoch 30/80\n",
      "5/5 [==============================] - 3s 617ms/step - loss: 1.3226 - accuracy: 0.4681 - val_loss: 1.4473 - val_accuracy: 0.4331\n",
      "Epoch 31/80\n",
      "5/5 [==============================] - 3s 639ms/step - loss: 1.3041 - accuracy: 0.4601 - val_loss: 1.4943 - val_accuracy: 0.4395\n",
      "Epoch 32/80\n",
      "5/5 [==============================] - 3s 684ms/step - loss: 1.2801 - accuracy: 0.4808 - val_loss: 1.4241 - val_accuracy: 0.4268\n",
      "Epoch 33/80\n",
      "5/5 [==============================] - 3s 612ms/step - loss: 1.2546 - accuracy: 0.5080 - val_loss: 1.4302 - val_accuracy: 0.4522\n",
      "Epoch 34/80\n",
      "5/5 [==============================] - 3s 617ms/step - loss: 1.2336 - accuracy: 0.5048 - val_loss: 1.4294 - val_accuracy: 0.4713\n",
      "Epoch 35/80\n",
      "5/5 [==============================] - 3s 627ms/step - loss: 1.2382 - accuracy: 0.5048 - val_loss: 1.3781 - val_accuracy: 0.4713\n",
      "Epoch 36/80\n",
      "5/5 [==============================] - 3s 612ms/step - loss: 1.1876 - accuracy: 0.4936 - val_loss: 1.5010 - val_accuracy: 0.4459\n",
      "Epoch 37/80\n",
      "5/5 [==============================] - 3s 592ms/step - loss: 1.1834 - accuracy: 0.5240 - val_loss: 1.3758 - val_accuracy: 0.5032\n",
      "Epoch 38/80\n",
      "5/5 [==============================] - 3s 605ms/step - loss: 1.1924 - accuracy: 0.5144 - val_loss: 1.4478 - val_accuracy: 0.4522\n",
      "Epoch 39/80\n",
      "5/5 [==============================] - 3s 589ms/step - loss: 1.2051 - accuracy: 0.4888 - val_loss: 1.4347 - val_accuracy: 0.4904\n",
      "Epoch 40/80\n",
      "5/5 [==============================] - 3s 597ms/step - loss: 1.1516 - accuracy: 0.5272 - val_loss: 1.4038 - val_accuracy: 0.4459\n",
      "Epoch 41/80\n",
      "5/5 [==============================] - 3s 605ms/step - loss: 1.1533 - accuracy: 0.5096 - val_loss: 1.4914 - val_accuracy: 0.4395\n",
      "Epoch 42/80\n",
      "5/5 [==============================] - 3s 601ms/step - loss: 1.1361 - accuracy: 0.5208 - val_loss: 1.3773 - val_accuracy: 0.5096\n",
      "Epoch 43/80\n",
      "5/5 [==============================] - 3s 609ms/step - loss: 1.0983 - accuracy: 0.5367 - val_loss: 1.4743 - val_accuracy: 0.4395\n",
      "Epoch 44/80\n",
      "5/5 [==============================] - 3s 619ms/step - loss: 1.0910 - accuracy: 0.5479 - val_loss: 1.3181 - val_accuracy: 0.5287\n",
      "Epoch 45/80\n",
      "5/5 [==============================] - 3s 601ms/step - loss: 1.0635 - accuracy: 0.5511 - val_loss: 1.3954 - val_accuracy: 0.4777\n",
      "Epoch 46/80\n",
      "5/5 [==============================] - 3s 621ms/step - loss: 1.0625 - accuracy: 0.5575 - val_loss: 1.4066 - val_accuracy: 0.4459\n",
      "Epoch 47/80\n",
      "5/5 [==============================] - 3s 646ms/step - loss: 1.0307 - accuracy: 0.5623 - val_loss: 1.4616 - val_accuracy: 0.4586\n",
      "Epoch 48/80\n",
      "5/5 [==============================] - 3s 616ms/step - loss: 1.0426 - accuracy: 0.5543 - val_loss: 1.4526 - val_accuracy: 0.4904\n",
      "Epoch 49/80\n",
      "5/5 [==============================] - 3s 625ms/step - loss: 1.0226 - accuracy: 0.5895 - val_loss: 1.3776 - val_accuracy: 0.4904\n",
      "Epoch 50/80\n",
      "5/5 [==============================] - 3s 613ms/step - loss: 1.0242 - accuracy: 0.5927 - val_loss: 1.4110 - val_accuracy: 0.4522\n",
      "Epoch 51/80\n",
      "5/5 [==============================] - 3s 601ms/step - loss: 1.0006 - accuracy: 0.5783 - val_loss: 1.4482 - val_accuracy: 0.4968\n",
      "Epoch 52/80\n",
      "5/5 [==============================] - 3s 628ms/step - loss: 1.0010 - accuracy: 0.5927 - val_loss: 1.3977 - val_accuracy: 0.4586\n",
      "Epoch 53/80\n",
      "5/5 [==============================] - 3s 595ms/step - loss: 0.9904 - accuracy: 0.5847 - val_loss: 1.4343 - val_accuracy: 0.4904\n",
      "Epoch 54/80\n",
      "5/5 [==============================] - 3s 598ms/step - loss: 0.9523 - accuracy: 0.5974 - val_loss: 1.3425 - val_accuracy: 0.5032\n",
      "Epoch 55/80\n",
      "5/5 [==============================] - 3s 630ms/step - loss: 0.9084 - accuracy: 0.6278 - val_loss: 1.4193 - val_accuracy: 0.4968\n",
      "Epoch 56/80\n",
      "5/5 [==============================] - 3s 598ms/step - loss: 0.9011 - accuracy: 0.6230 - val_loss: 1.3806 - val_accuracy: 0.4586\n",
      "Epoch 57/80\n",
      "5/5 [==============================] - 3s 612ms/step - loss: 0.8735 - accuracy: 0.6438 - val_loss: 1.4638 - val_accuracy: 0.4777\n",
      "Epoch 58/80\n",
      "5/5 [==============================] - 3s 615ms/step - loss: 0.8668 - accuracy: 0.6102 - val_loss: 1.3984 - val_accuracy: 0.4522\n",
      "Epoch 59/80\n",
      "5/5 [==============================] - 3s 601ms/step - loss: 0.8648 - accuracy: 0.6613 - val_loss: 1.3459 - val_accuracy: 0.5096\n",
      "Epoch 60/80\n",
      "5/5 [==============================] - 3s 589ms/step - loss: 0.8330 - accuracy: 0.6454 - val_loss: 1.3917 - val_accuracy: 0.4968\n",
      "Epoch 61/80\n",
      "5/5 [==============================] - 3s 591ms/step - loss: 0.7965 - accuracy: 0.6901 - val_loss: 1.3900 - val_accuracy: 0.4777\n",
      "Epoch 62/80\n",
      "5/5 [==============================] - 3s 585ms/step - loss: 0.7725 - accuracy: 0.6725 - val_loss: 1.3754 - val_accuracy: 0.4841\n",
      "Epoch 63/80\n",
      "5/5 [==============================] - 3s 593ms/step - loss: 0.7789 - accuracy: 0.6901 - val_loss: 1.3940 - val_accuracy: 0.5287\n",
      "Epoch 64/80\n",
      "5/5 [==============================] - 3s 592ms/step - loss: 0.7441 - accuracy: 0.6869 - val_loss: 1.3407 - val_accuracy: 0.5287\n",
      "Epoch 65/80\n",
      "5/5 [==============================] - 3s 609ms/step - loss: 0.7363 - accuracy: 0.6949 - val_loss: 1.3364 - val_accuracy: 0.5223\n",
      "Epoch 66/80\n",
      "5/5 [==============================] - 3s 608ms/step - loss: 0.6890 - accuracy: 0.7268 - val_loss: 1.3807 - val_accuracy: 0.4713\n",
      "Epoch 67/80\n",
      "5/5 [==============================] - 3s 605ms/step - loss: 0.6588 - accuracy: 0.7396 - val_loss: 1.4052 - val_accuracy: 0.4968\n",
      "Epoch 68/80\n",
      "5/5 [==============================] - 3s 604ms/step - loss: 0.6385 - accuracy: 0.7412 - val_loss: 1.3949 - val_accuracy: 0.5159\n",
      "Epoch 69/80\n",
      "5/5 [==============================] - 3s 613ms/step - loss: 0.6150 - accuracy: 0.7556 - val_loss: 1.4714 - val_accuracy: 0.5350\n",
      "Epoch 70/80\n",
      "5/5 [==============================] - 3s 580ms/step - loss: 0.6500 - accuracy: 0.7204 - val_loss: 1.3659 - val_accuracy: 0.5287\n",
      "Epoch 71/80\n",
      "5/5 [==============================] - 3s 580ms/step - loss: 0.6478 - accuracy: 0.7220 - val_loss: 1.4453 - val_accuracy: 0.5159\n",
      "Epoch 72/80\n",
      "5/5 [==============================] - 3s 605ms/step - loss: 0.5821 - accuracy: 0.7668 - val_loss: 1.4485 - val_accuracy: 0.5287\n",
      "Epoch 73/80\n",
      "5/5 [==============================] - 3s 589ms/step - loss: 0.5868 - accuracy: 0.7636 - val_loss: 1.5063 - val_accuracy: 0.5287\n",
      "Epoch 74/80\n",
      "5/5 [==============================] - 3s 592ms/step - loss: 0.5773 - accuracy: 0.7780 - val_loss: 1.4443 - val_accuracy: 0.5096\n",
      "Epoch 75/80\n",
      "5/5 [==============================] - 3s 611ms/step - loss: 0.5414 - accuracy: 0.7652 - val_loss: 1.4411 - val_accuracy: 0.5287\n",
      "Epoch 76/80\n",
      "5/5 [==============================] - 3s 595ms/step - loss: 0.5271 - accuracy: 0.7939 - val_loss: 1.4050 - val_accuracy: 0.5732\n",
      "Epoch 77/80\n",
      "5/5 [==============================] - 3s 599ms/step - loss: 0.5276 - accuracy: 0.7843 - val_loss: 1.5028 - val_accuracy: 0.5414\n",
      "Epoch 78/80\n",
      "5/5 [==============================] - 3s 596ms/step - loss: 0.5114 - accuracy: 0.7859 - val_loss: 1.4385 - val_accuracy: 0.5860\n",
      "Epoch 79/80\n",
      "5/5 [==============================] - 3s 590ms/step - loss: 0.5346 - accuracy: 0.7923 - val_loss: 1.3735 - val_accuracy: 0.5860\n",
      "Epoch 80/80\n",
      "5/5 [==============================] - 3s 604ms/step - loss: 0.5147 - accuracy: 0.8067 - val_loss: 1.5026 - val_accuracy: 0.5669\n"
     ]
    },
    {
     "data": {
      "text/plain": [
       "<keras.callbacks.History at 0x28b34265d90>"
      ]
     },
     "execution_count": 51,
     "metadata": {},
     "output_type": "execute_result"
    }
   ],
   "source": [
    "#compile the model using Adam optimizer\n",
    "model.compile(loss='sparse_categorical_crossentropy', optimizer='adam',metrics=['accuracy'])\n",
    "\n",
    "#train the model on training sets and validate on testing sets\n",
    "model.fit(\n",
    " x_train,y_train,\n",
    " batch_size=128,epochs=80,\n",
    " validation_data=(x_test,y_test))"
   ]
  },
  {
   "cell_type": "code",
   "execution_count": 52,
   "id": "93ea510e",
   "metadata": {},
   "outputs": [
    {
     "name": "stderr",
     "output_type": "stream",
     "text": [
      "WARNING:absl:Found untraced functions such as lstm_cell_layer_call_fn, lstm_cell_layer_call_and_return_conditional_losses, lstm_cell_1_layer_call_fn, lstm_cell_1_layer_call_and_return_conditional_losses while saving (showing 4 of 4). These functions will not be directly callable after loading.\n"
     ]
    },
    {
     "name": "stdout",
     "output_type": "stream",
     "text": [
      "INFO:tensorflow:Assets written to: s2s\\assets\n"
     ]
    },
    {
     "name": "stderr",
     "output_type": "stream",
     "text": [
      "INFO:tensorflow:Assets written to: s2s\\assets\n",
      "WARNING:absl:<keras.layers.recurrent.LSTMCell object at 0x0000028B39FFB400> has the same name 'LSTMCell' as a built-in Keras object. Consider renaming <class 'keras.layers.recurrent.LSTMCell'> to avoid naming conflicts when loading with `tf.keras.models.load_model`. If renaming is not possible, pass the object in the `custom_objects` parameter of the load function.\n",
      "WARNING:absl:<keras.layers.recurrent.LSTMCell object at 0x0000028B36122CD0> has the same name 'LSTMCell' as a built-in Keras object. Consider renaming <class 'keras.layers.recurrent.LSTMCell'> to avoid naming conflicts when loading with `tf.keras.models.load_model`. If renaming is not possible, pass the object in the `custom_objects` parameter of the load function.\n"
     ]
    }
   ],
   "source": [
    "#save the model for predictions\n",
    "model.save(\"s2s\")"
   ]
  },
  {
   "cell_type": "code",
   "execution_count": 54,
   "id": "2939dc1b",
   "metadata": {},
   "outputs": [],
   "source": [
    "#load the model\n",
    "model = load_model(\"s2s\")\n",
    "#generate random index\n",
    "index = np.random.randint(0,len(x_test)-1)\n",
    "#get the data of generated index from x_test\n",
    "music_pattern = x_test[index]\n",
    "out_pred=[] #it will store predicted notes\n",
    "\n",
    "#iterate till 200 note is generated\n",
    "for i in range(200):\n",
    "\n",
    " #reshape the music pattern\n",
    " music_pattern = music_pattern.reshape(1,len(music_pattern),1)\n",
    "\n",
    " #get the maximum probability value from the predicted output\n",
    " pred_index = np.argmax(model.predict(music_pattern))\n",
    " #get the note using predicted index and\n",
    " #append to the output prediction list\n",
    " out_pred.append(ind2note[pred_index])\n",
    " music_pattern = np.append(music_pattern,pred_index)\n",
    "\n",
    " #update the music pattern with one timestep ahead\n",
    " music_pattern = music_pattern[1:]"
   ]
  },
  {
   "cell_type": "code",
   "execution_count": 61,
   "id": "e33b6a6e",
   "metadata": {},
   "outputs": [
    {
     "data": {
      "text/plain": [
       "'pred_music.mid'"
      ]
     },
     "execution_count": 61,
     "metadata": {},
     "output_type": "execute_result"
    }
   ],
   "source": [
    "output_notes = []\n",
    "for offset,pattern in enumerate(out_pred):\n",
    "#if pattern is a chord instance\n",
    " if ('.' in pattern) or pattern.isdigit():\n",
    " #split notes from the chord\n",
    "  notes_in_chord = pattern.split('.')\n",
    "  notes = []\n",
    "  for current_note in notes_in_chord:\n",
    "    i_curr_note=int(current_note)\n",
    "  #cast the current note to Note object and\n",
    "  #append the current note\n",
    "    new_note = note.Note(i_curr_note)\n",
    "    new_note.storedInstrument = instrument.Piano()\n",
    "    notes.append(new_note)\n",
    "\n",
    " #cast the current note to Chord object\n",
    " #offset will be 1 step ahead from the previous note\n",
    " #as it will prevent notes to stack up\n",
    "  new_chord = chord.Chord(notes)\n",
    "  new_chord.offset = offset\n",
    "  output_notes.append(new_chord)\n",
    "\n",
    "else:\n",
    " #cast the pattern to Note object apply the offset and\n",
    " #append the note\n",
    " new_note = note.Note(pattern)\n",
    " new_note.offset = offset\n",
    " new_note.storedInstrument = instrument.Piano()\n",
    " output_notes.append(new_note)\n",
    "\n",
    "#save the midi file\n",
    "midi_stream = stream.Stream(output_notes)\n",
    "midi_stream.write('midi', fp='pred_music.mid')"
   ]
  },
  {
   "cell_type": "code",
   "execution_count": null,
   "id": "d9add84e",
   "metadata": {},
   "outputs": [],
   "source": []
  }
 ],
 "metadata": {
  "kernelspec": {
   "display_name": "Python 3 (ipykernel)",
   "language": "python",
   "name": "python3"
  },
  "language_info": {
   "codemirror_mode": {
    "name": "ipython",
    "version": 3
   },
   "file_extension": ".py",
   "mimetype": "text/x-python",
   "name": "python",
   "nbconvert_exporter": "python",
   "pygments_lexer": "ipython3",
   "version": "3.9.7"
  }
 },
 "nbformat": 4,
 "nbformat_minor": 5
}
